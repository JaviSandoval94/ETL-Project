{
 "cells": [
  {
   "cell_type": "markdown",
   "metadata": {},
   "source": [
    "# ETL Project"
   ]
  },
  {
   "cell_type": "markdown",
   "metadata": {
    "heading_collapsed": true
   },
   "source": [
    "## Dependencies"
   ]
  },
  {
   "cell_type": "code",
   "execution_count": 1,
   "metadata": {
    "hidden": true
   },
   "outputs": [],
   "source": [
    "import pandas as pd\n",
    "import datetime\n",
    "import requests\n",
    "from sqlalchemy import create_engine"
   ]
  },
  {
   "cell_type": "markdown",
   "metadata": {
    "heading_collapsed": true
   },
   "source": [
    "## Extraction"
   ]
  },
  {
   "cell_type": "markdown",
   "metadata": {
    "heading_collapsed": true,
    "hidden": true
   },
   "source": [
    "### Climate Data"
   ]
  },
  {
   "cell_type": "code",
   "execution_count": 2,
   "metadata": {
    "hidden": true,
    "scrolled": true
   },
   "outputs": [
    {
     "name": "stdout",
     "output_type": "stream",
     "text": [
      "19.422614, -99.136465, 1\n",
      "25.678396, -100.320128, 2\n",
      "21.175957, -86.835151, 3\n",
      "20.678767, -103.346187, 4\n",
      "<class 'pandas.core.frame.DataFrame'>\n",
      "RangeIndex: 728 entries, 0 to 727\n",
      "Data columns (total 5 columns):\n",
      "Date     728 non-null object\n",
      "Temp     728 non-null float64\n",
      "Hum      728 non-null float64\n",
      "FLike    728 non-null float64\n",
      "City     728 non-null int64\n",
      "dtypes: float64(3), int64(1), object(1)\n",
      "memory usage: 28.6+ KB\n"
     ]
    },
    {
     "data": {
      "text/html": [
       "<div>\n",
       "<style scoped>\n",
       "    .dataframe tbody tr th:only-of-type {\n",
       "        vertical-align: middle;\n",
       "    }\n",
       "\n",
       "    .dataframe tbody tr th {\n",
       "        vertical-align: top;\n",
       "    }\n",
       "\n",
       "    .dataframe thead th {\n",
       "        text-align: right;\n",
       "    }\n",
       "</style>\n",
       "<table border=\"1\" class=\"dataframe\">\n",
       "  <thead>\n",
       "    <tr style=\"text-align: right;\">\n",
       "      <th></th>\n",
       "      <th>Date</th>\n",
       "      <th>Temp</th>\n",
       "      <th>Hum</th>\n",
       "      <th>FLike</th>\n",
       "      <th>City</th>\n",
       "    </tr>\n",
       "  </thead>\n",
       "  <tbody>\n",
       "    <tr>\n",
       "      <td>0</td>\n",
       "      <td>01/11/2019</td>\n",
       "      <td>18.0</td>\n",
       "      <td>65.0</td>\n",
       "      <td>16.0</td>\n",
       "      <td>1</td>\n",
       "    </tr>\n",
       "    <tr>\n",
       "      <td>1</td>\n",
       "      <td>02/11/2019</td>\n",
       "      <td>17.0</td>\n",
       "      <td>70.0</td>\n",
       "      <td>16.0</td>\n",
       "      <td>1</td>\n",
       "    </tr>\n",
       "    <tr>\n",
       "      <td>2</td>\n",
       "      <td>03/11/2019</td>\n",
       "      <td>17.0</td>\n",
       "      <td>64.0</td>\n",
       "      <td>16.0</td>\n",
       "      <td>1</td>\n",
       "    </tr>\n",
       "    <tr>\n",
       "      <td>3</td>\n",
       "      <td>04/11/2019</td>\n",
       "      <td>19.0</td>\n",
       "      <td>59.0</td>\n",
       "      <td>18.0</td>\n",
       "      <td>1</td>\n",
       "    </tr>\n",
       "    <tr>\n",
       "      <td>4</td>\n",
       "      <td>05/11/2019</td>\n",
       "      <td>18.0</td>\n",
       "      <td>66.0</td>\n",
       "      <td>17.0</td>\n",
       "      <td>1</td>\n",
       "    </tr>\n",
       "  </tbody>\n",
       "</table>\n",
       "</div>"
      ],
      "text/plain": [
       "         Date  Temp   Hum  FLike  City\n",
       "0  01/11/2019  18.0  65.0   16.0     1\n",
       "1  02/11/2019  17.0  70.0   16.0     1\n",
       "2  03/11/2019  17.0  64.0   16.0     1\n",
       "3  04/11/2019  19.0  59.0   18.0     1\n",
       "4  05/11/2019  18.0  66.0   17.0     1"
      ]
     },
     "execution_count": 2,
     "metadata": {},
     "output_type": "execute_result"
    }
   ],
   "source": [
    "# Api Key\n",
    "key = '22bbc46976cc45e8b1104224200104'\n",
    "\n",
    "# List of dates corresponding to the month and the year (The API only manages to get a month at a time)\n",
    "dates = ['2019-11-01', '2019-12-01', '2020-01-01', '2020-02-01', '2020-03-01', '2020-04-01']\n",
    "end_date = ['2019-11-30', '2019-12-31', '2020-01-31', '2020-02-29', '2020-03-31', '2020-04-30']\n",
    "# Create an empty list to store all the data\n",
    "date_list = []\n",
    "avgtempC_list = []\n",
    "humidity_list = []\n",
    "FeelsLikeC_list = []\n",
    "city_name = []\n",
    "\n",
    "# Latitude and Longitude of the sites\n",
    "latitud = ['19.422614', '25.678396', '21.175957', '20.678767']\n",
    "longitud = ['-99.136465', '-100.320128', '-86.835151', '-103.346187']\n",
    "city = [1, 2, 3, 4]\n",
    "\n",
    "site_flag = 0\n",
    "\n",
    "for lat in latitud:\n",
    "\n",
    "    end_date_flag = 0\n",
    "    # For each start and end date, get the URL. Use a flag to iterate through the end_date list.\n",
    "    for date in dates:\n",
    "        # Built the URL.\n",
    "        url='http://api.worldweatheronline.com/premium/v1/past-weather.ashx?key={key}&q={latitud},%{longitud}&format=json&date={date}&enddate={end_date}&includelocation=yes&tp=24'.format(\n",
    "        key=key,latitud=lat,longitud=longitud[site_flag],date=date,end_date=end_date[end_date_flag])\n",
    "        end_date_flag+=1\n",
    "        # Get response from the URL.\n",
    "        response = requests.get(url).json()\n",
    "        # Create a flag to iterate thourgh the hole month.\n",
    "        month_day = 0\n",
    "        # For each element in the JSON (day of the mont), extract the Date, Avg Temperature C,\n",
    "        # Humidity %, Feels Like C.\n",
    "        for i in response['data']['weather']:\n",
    "            # Append the element of the dictionary that corresponds to each list. \n",
    "            date_list.append(response['data']['weather'][month_day]['date'])\n",
    "            avgtempC_list.append(float(response['data']['weather'][month_day]['avgtempC']))\n",
    "            humidity_list.append(float(response['data']['weather'][month_day]['hourly'][0]['humidity']))\n",
    "            FeelsLikeC_list.append(float(response['data']['weather'][month_day]['hourly'][0]['FeelsLikeC']))\n",
    "            city_name.append(city[site_flag])\n",
    "            month_day+=1\n",
    "\n",
    "    # Create a dictionary to store the lists\n",
    "    dict_climate = {'Date':date_list, \n",
    "                    'Temp':avgtempC_list,\n",
    "                    'Hum':humidity_list,\n",
    "                    'FLike':FeelsLikeC_list,\n",
    "                    'City': city_name\n",
    "                   }\n",
    "    print(lat + ', ' + longitud[site_flag] + ', ' + str(city[site_flag]))\n",
    "    site_flag+=1\n",
    "\n",
    "# Create the DataFrame based on the previous dictionary\n",
    "df_climate = pd.DataFrame(dict_climate)\n",
    "df_climate[\"Date\"] = pd.to_datetime(df_climate[\"Date\"])\n",
    "df_climate['Date'] = df_climate['Date'].dt.strftime('%d/%m/%Y')\n",
    "df_climate.info()\n",
    "\n",
    "df_climate.head()"
   ]
  },
  {
   "cell_type": "markdown",
   "metadata": {
    "heading_collapsed": true,
    "hidden": true
   },
   "source": [
    "### Site Information"
   ]
  },
  {
   "cell_type": "code",
   "execution_count": 3,
   "metadata": {
    "hidden": true,
    "scrolled": true
   },
   "outputs": [
    {
     "name": "stdout",
     "output_type": "stream",
     "text": [
      "<class 'pandas.core.frame.DataFrame'>\n",
      "RangeIndex: 10 entries, 0 to 9\n",
      "Data columns (total 8 columns):\n",
      "site_id         10 non-null int64\n",
      "site_name       10 non-null object\n",
      "client_id       10 non-null int64\n",
      "tarifa_cfe      10 non-null object\n",
      "tarifa2         10 non-null object\n",
      "division_cfe    10 non-null object\n",
      "tarifa3         0 non-null float64\n",
      "zona            10 non-null object\n",
      "dtypes: float64(1), int64(2), object(5)\n",
      "memory usage: 768.0+ bytes\n"
     ]
    },
    {
     "data": {
      "text/html": [
       "<div>\n",
       "<style scoped>\n",
       "    .dataframe tbody tr th:only-of-type {\n",
       "        vertical-align: middle;\n",
       "    }\n",
       "\n",
       "    .dataframe tbody tr th {\n",
       "        vertical-align: top;\n",
       "    }\n",
       "\n",
       "    .dataframe thead th {\n",
       "        text-align: right;\n",
       "    }\n",
       "</style>\n",
       "<table border=\"1\" class=\"dataframe\">\n",
       "  <thead>\n",
       "    <tr style=\"text-align: right;\">\n",
       "      <th></th>\n",
       "      <th>site_id</th>\n",
       "      <th>site_name</th>\n",
       "      <th>client_id</th>\n",
       "      <th>tarifa_cfe</th>\n",
       "      <th>tarifa2</th>\n",
       "      <th>division_cfe</th>\n",
       "      <th>tarifa3</th>\n",
       "      <th>zona</th>\n",
       "    </tr>\n",
       "  </thead>\n",
       "  <tbody>\n",
       "    <tr>\n",
       "      <td>0</td>\n",
       "      <td>15099</td>\n",
       "      <td>Restaurante 01</td>\n",
       "      <td>1</td>\n",
       "      <td>GDMTH</td>\n",
       "      <td>HM</td>\n",
       "      <td>Jalisco</td>\n",
       "      <td>NaN</td>\n",
       "      <td>GDL</td>\n",
       "    </tr>\n",
       "    <tr>\n",
       "      <td>1</td>\n",
       "      <td>36983</td>\n",
       "      <td>Restaurante 02</td>\n",
       "      <td>1</td>\n",
       "      <td>GDMTH</td>\n",
       "      <td>HM</td>\n",
       "      <td>Golfo Norte</td>\n",
       "      <td>NaN</td>\n",
       "      <td>MTY</td>\n",
       "    </tr>\n",
       "    <tr>\n",
       "      <td>2</td>\n",
       "      <td>38716</td>\n",
       "      <td>Restaurante 03</td>\n",
       "      <td>1</td>\n",
       "      <td>GDMTH</td>\n",
       "      <td>HM</td>\n",
       "      <td>Peninsular</td>\n",
       "      <td>NaN</td>\n",
       "      <td>CUN</td>\n",
       "    </tr>\n",
       "    <tr>\n",
       "      <td>3</td>\n",
       "      <td>26804</td>\n",
       "      <td>Restaurante 04</td>\n",
       "      <td>1</td>\n",
       "      <td>GDMTH</td>\n",
       "      <td>HM</td>\n",
       "      <td>Valle de México Centro</td>\n",
       "      <td>NaN</td>\n",
       "      <td>CDMX</td>\n",
       "    </tr>\n",
       "    <tr>\n",
       "      <td>4</td>\n",
       "      <td>32703</td>\n",
       "      <td>Restaurante 05</td>\n",
       "      <td>1</td>\n",
       "      <td>GDMTH</td>\n",
       "      <td>HM</td>\n",
       "      <td>Golfo Norte</td>\n",
       "      <td>NaN</td>\n",
       "      <td>MTY</td>\n",
       "    </tr>\n",
       "  </tbody>\n",
       "</table>\n",
       "</div>"
      ],
      "text/plain": [
       "   site_id       site_name  client_id tarifa_cfe tarifa2  \\\n",
       "0    15099  Restaurante 01          1      GDMTH      HM   \n",
       "1    36983  Restaurante 02          1      GDMTH      HM   \n",
       "2    38716  Restaurante 03          1      GDMTH      HM   \n",
       "3    26804  Restaurante 04          1      GDMTH      HM   \n",
       "4    32703  Restaurante 05          1      GDMTH      HM   \n",
       "\n",
       "             division_cfe  tarifa3  zona  \n",
       "0                 Jalisco      NaN   GDL  \n",
       "1             Golfo Norte      NaN   MTY  \n",
       "2              Peninsular      NaN   CUN  \n",
       "3  Valle de México Centro      NaN  CDMX  \n",
       "4             Golfo Norte      NaN   MTY  "
      ]
     },
     "execution_count": 3,
     "metadata": {},
     "output_type": "execute_result"
    }
   ],
   "source": [
    "# Load the data from a CSV file\n",
    "sites_df = pd.read_csv('sites.csv', encoding='utf-8')\n",
    "sites_df.info()\n",
    "sites_df.head()"
   ]
  },
  {
   "cell_type": "markdown",
   "metadata": {
    "heading_collapsed": true,
    "hidden": true
   },
   "source": [
    "### Region Information"
   ]
  },
  {
   "cell_type": "code",
   "execution_count": 4,
   "metadata": {
    "hidden": true
   },
   "outputs": [],
   "source": [
    "# Create a dictionary, based on the data we have\n",
    "region = {'region_id': [1,2,3,4], 'region_name': ['CDMX', 'MTY', 'CUN', 'GDL']}"
   ]
  },
  {
   "cell_type": "code",
   "execution_count": 5,
   "metadata": {
    "hidden": true
   },
   "outputs": [
    {
     "data": {
      "text/html": [
       "<div>\n",
       "<style scoped>\n",
       "    .dataframe tbody tr th:only-of-type {\n",
       "        vertical-align: middle;\n",
       "    }\n",
       "\n",
       "    .dataframe tbody tr th {\n",
       "        vertical-align: top;\n",
       "    }\n",
       "\n",
       "    .dataframe thead th {\n",
       "        text-align: right;\n",
       "    }\n",
       "</style>\n",
       "<table border=\"1\" class=\"dataframe\">\n",
       "  <thead>\n",
       "    <tr style=\"text-align: right;\">\n",
       "      <th></th>\n",
       "      <th>region_id</th>\n",
       "      <th>region_name</th>\n",
       "    </tr>\n",
       "  </thead>\n",
       "  <tbody>\n",
       "    <tr>\n",
       "      <td>0</td>\n",
       "      <td>1</td>\n",
       "      <td>CDMX</td>\n",
       "    </tr>\n",
       "    <tr>\n",
       "      <td>1</td>\n",
       "      <td>2</td>\n",
       "      <td>MTY</td>\n",
       "    </tr>\n",
       "    <tr>\n",
       "      <td>2</td>\n",
       "      <td>3</td>\n",
       "      <td>CUN</td>\n",
       "    </tr>\n",
       "    <tr>\n",
       "      <td>3</td>\n",
       "      <td>4</td>\n",
       "      <td>GDL</td>\n",
       "    </tr>\n",
       "  </tbody>\n",
       "</table>\n",
       "</div>"
      ],
      "text/plain": [
       "   region_id region_name\n",
       "0          1        CDMX\n",
       "1          2         MTY\n",
       "2          3         CUN\n",
       "3          4         GDL"
      ]
     },
     "execution_count": 5,
     "metadata": {},
     "output_type": "execute_result"
    }
   ],
   "source": [
    "# Create the data frame from the previous dictionary\n",
    "region_df = pd.DataFrame(region)\n",
    "region_df"
   ]
  },
  {
   "cell_type": "markdown",
   "metadata": {
    "heading_collapsed": true,
    "hidden": true
   },
   "source": [
    "### Energy Consumption"
   ]
  },
  {
   "cell_type": "code",
   "execution_count": 6,
   "metadata": {
    "hidden": true
   },
   "outputs": [
    {
     "name": "stdout",
     "output_type": "stream",
     "text": [
      "<class 'pandas.core.frame.DataFrame'>\n",
      "RangeIndex: 844013 entries, 0 to 844012\n",
      "Data columns (total 8 columns):\n",
      "device_id      844013 non-null int64\n",
      "power(kW)      844013 non-null float64\n",
      "energy(kWh)    844013 non-null float64\n",
      "site_id        844013 non-null int64\n",
      "category       844013 non-null object\n",
      "device_name    844013 non-null object\n",
      "Fecha          844013 non-null object\n",
      "Hora           844013 non-null object\n",
      "dtypes: float64(2), int64(2), object(4)\n",
      "memory usage: 51.5+ MB\n"
     ]
    },
    {
     "data": {
      "text/html": [
       "<div>\n",
       "<style scoped>\n",
       "    .dataframe tbody tr th:only-of-type {\n",
       "        vertical-align: middle;\n",
       "    }\n",
       "\n",
       "    .dataframe tbody tr th {\n",
       "        vertical-align: top;\n",
       "    }\n",
       "\n",
       "    .dataframe thead th {\n",
       "        text-align: right;\n",
       "    }\n",
       "</style>\n",
       "<table border=\"1\" class=\"dataframe\">\n",
       "  <thead>\n",
       "    <tr style=\"text-align: right;\">\n",
       "      <th></th>\n",
       "      <th>device_id</th>\n",
       "      <th>power(kW)</th>\n",
       "      <th>energy(kWh)</th>\n",
       "      <th>site_id</th>\n",
       "      <th>category</th>\n",
       "      <th>device_name</th>\n",
       "      <th>Fecha</th>\n",
       "      <th>Hora</th>\n",
       "    </tr>\n",
       "  </thead>\n",
       "  <tbody>\n",
       "    <tr>\n",
       "      <td>0</td>\n",
       "      <td>44989</td>\n",
       "      <td>3.2694</td>\n",
       "      <td>0.817350</td>\n",
       "      <td>15099</td>\n",
       "      <td>Ilum</td>\n",
       "      <td>Iluminacion A</td>\n",
       "      <td>01/11/2019</td>\n",
       "      <td>06:00:00 p. m.</td>\n",
       "    </tr>\n",
       "    <tr>\n",
       "      <td>1</td>\n",
       "      <td>44989</td>\n",
       "      <td>3.2839</td>\n",
       "      <td>0.820975</td>\n",
       "      <td>15099</td>\n",
       "      <td>Ilum</td>\n",
       "      <td>Iluminacion A</td>\n",
       "      <td>01/11/2019</td>\n",
       "      <td>06:15:00 p. m.</td>\n",
       "    </tr>\n",
       "    <tr>\n",
       "      <td>2</td>\n",
       "      <td>44989</td>\n",
       "      <td>3.6099</td>\n",
       "      <td>0.902475</td>\n",
       "      <td>15099</td>\n",
       "      <td>Ilum</td>\n",
       "      <td>Iluminacion A</td>\n",
       "      <td>01/11/2019</td>\n",
       "      <td>06:30:00 p. m.</td>\n",
       "    </tr>\n",
       "    <tr>\n",
       "      <td>3</td>\n",
       "      <td>44989</td>\n",
       "      <td>3.3515</td>\n",
       "      <td>0.837875</td>\n",
       "      <td>15099</td>\n",
       "      <td>Ilum</td>\n",
       "      <td>Iluminacion A</td>\n",
       "      <td>01/11/2019</td>\n",
       "      <td>06:45:00 p. m.</td>\n",
       "    </tr>\n",
       "    <tr>\n",
       "      <td>4</td>\n",
       "      <td>44989</td>\n",
       "      <td>3.2893</td>\n",
       "      <td>0.822325</td>\n",
       "      <td>15099</td>\n",
       "      <td>Ilum</td>\n",
       "      <td>Iluminacion A</td>\n",
       "      <td>01/11/2019</td>\n",
       "      <td>07:00:00 p. m.</td>\n",
       "    </tr>\n",
       "  </tbody>\n",
       "</table>\n",
       "</div>"
      ],
      "text/plain": [
       "   device_id  power(kW)  energy(kWh)  site_id category    device_name  \\\n",
       "0      44989     3.2694     0.817350    15099     Ilum  Iluminacion A   \n",
       "1      44989     3.2839     0.820975    15099     Ilum  Iluminacion A   \n",
       "2      44989     3.6099     0.902475    15099     Ilum  Iluminacion A   \n",
       "3      44989     3.3515     0.837875    15099     Ilum  Iluminacion A   \n",
       "4      44989     3.2893     0.822325    15099     Ilum  Iluminacion A   \n",
       "\n",
       "        Fecha            Hora  \n",
       "0  01/11/2019  06:00:00 p. m.  \n",
       "1  01/11/2019  06:15:00 p. m.  \n",
       "2  01/11/2019  06:30:00 p. m.  \n",
       "3  01/11/2019  06:45:00 p. m.  \n",
       "4  01/11/2019  07:00:00 p. m.  "
      ]
     },
     "execution_count": 6,
     "metadata": {},
     "output_type": "execute_result"
    }
   ],
   "source": [
    "# Load the data from a CSV file\n",
    "measurements_df = pd.read_csv('measurements.csv')\n",
    "measurements_df.info()\n",
    "measurements_df.head()"
   ]
  },
  {
   "cell_type": "markdown",
   "metadata": {
    "heading_collapsed": true,
    "hidden": true
   },
   "source": [
    "### Sales Information "
   ]
  },
  {
   "cell_type": "code",
   "execution_count": 7,
   "metadata": {
    "hidden": true
   },
   "outputs": [
    {
     "data": {
      "text/html": [
       "<div>\n",
       "<style scoped>\n",
       "    .dataframe tbody tr th:only-of-type {\n",
       "        vertical-align: middle;\n",
       "    }\n",
       "\n",
       "    .dataframe tbody tr th {\n",
       "        vertical-align: top;\n",
       "    }\n",
       "\n",
       "    .dataframe thead th {\n",
       "        text-align: right;\n",
       "    }\n",
       "</style>\n",
       "<table border=\"1\" class=\"dataframe\">\n",
       "  <thead>\n",
       "    <tr style=\"text-align: right;\">\n",
       "      <th></th>\n",
       "      <th>site_id</th>\n",
       "      <th>fecha</th>\n",
       "      <th>ventas</th>\n",
       "      <th>invitados</th>\n",
       "    </tr>\n",
       "  </thead>\n",
       "  <tbody>\n",
       "    <tr>\n",
       "      <td>0</td>\n",
       "      <td>32703</td>\n",
       "      <td>01/01/2020</td>\n",
       "      <td>25627.53</td>\n",
       "      <td>118</td>\n",
       "    </tr>\n",
       "    <tr>\n",
       "      <td>1</td>\n",
       "      <td>15099</td>\n",
       "      <td>01/01/2020</td>\n",
       "      <td>52417.82</td>\n",
       "      <td>227</td>\n",
       "    </tr>\n",
       "    <tr>\n",
       "      <td>2</td>\n",
       "      <td>19865</td>\n",
       "      <td>01/01/2020</td>\n",
       "      <td>39135.47</td>\n",
       "      <td>170</td>\n",
       "    </tr>\n",
       "    <tr>\n",
       "      <td>3</td>\n",
       "      <td>23623</td>\n",
       "      <td>01/01/2020</td>\n",
       "      <td>30524.01</td>\n",
       "      <td>124</td>\n",
       "    </tr>\n",
       "    <tr>\n",
       "      <td>4</td>\n",
       "      <td>26800</td>\n",
       "      <td>01/01/2020</td>\n",
       "      <td>27009.54</td>\n",
       "      <td>113</td>\n",
       "    </tr>\n",
       "  </tbody>\n",
       "</table>\n",
       "</div>"
      ],
      "text/plain": [
       "   site_id       fecha    ventas  invitados\n",
       "0    32703  01/01/2020  25627.53        118\n",
       "1    15099  01/01/2020  52417.82        227\n",
       "2    19865  01/01/2020  39135.47        170\n",
       "3    23623  01/01/2020  30524.01        124\n",
       "4    26800  01/01/2020  27009.54        113"
      ]
     },
     "execution_count": 7,
     "metadata": {},
     "output_type": "execute_result"
    }
   ],
   "source": [
    "# Load the data from a CSV file\n",
    "sales_df = pd.read_csv('sales.csv')\n",
    "sales_df.head()"
   ]
  },
  {
   "cell_type": "markdown",
   "metadata": {
    "heading_collapsed": true
   },
   "source": [
    "## Transformation"
   ]
  },
  {
   "cell_type": "markdown",
   "metadata": {
    "heading_collapsed": true,
    "hidden": true
   },
   "source": [
    "### Climate Data"
   ]
  },
  {
   "cell_type": "code",
   "execution_count": 8,
   "metadata": {
    "hidden": true
   },
   "outputs": [
    {
     "data": {
      "text/html": [
       "<div>\n",
       "<style scoped>\n",
       "    .dataframe tbody tr th:only-of-type {\n",
       "        vertical-align: middle;\n",
       "    }\n",
       "\n",
       "    .dataframe tbody tr th {\n",
       "        vertical-align: top;\n",
       "    }\n",
       "\n",
       "    .dataframe thead th {\n",
       "        text-align: right;\n",
       "    }\n",
       "</style>\n",
       "<table border=\"1\" class=\"dataframe\">\n",
       "  <thead>\n",
       "    <tr style=\"text-align: right;\">\n",
       "      <th></th>\n",
       "      <th>date</th>\n",
       "      <th>avg_temp</th>\n",
       "      <th>humidity</th>\n",
       "      <th>f_like</th>\n",
       "      <th>region_id</th>\n",
       "    </tr>\n",
       "  </thead>\n",
       "  <tbody>\n",
       "    <tr>\n",
       "      <td>0</td>\n",
       "      <td>01/11/2019</td>\n",
       "      <td>18.0</td>\n",
       "      <td>65.0</td>\n",
       "      <td>16.0</td>\n",
       "      <td>1</td>\n",
       "    </tr>\n",
       "    <tr>\n",
       "      <td>1</td>\n",
       "      <td>02/11/2019</td>\n",
       "      <td>17.0</td>\n",
       "      <td>70.0</td>\n",
       "      <td>16.0</td>\n",
       "      <td>1</td>\n",
       "    </tr>\n",
       "    <tr>\n",
       "      <td>2</td>\n",
       "      <td>03/11/2019</td>\n",
       "      <td>17.0</td>\n",
       "      <td>64.0</td>\n",
       "      <td>16.0</td>\n",
       "      <td>1</td>\n",
       "    </tr>\n",
       "    <tr>\n",
       "      <td>3</td>\n",
       "      <td>04/11/2019</td>\n",
       "      <td>19.0</td>\n",
       "      <td>59.0</td>\n",
       "      <td>18.0</td>\n",
       "      <td>1</td>\n",
       "    </tr>\n",
       "    <tr>\n",
       "      <td>4</td>\n",
       "      <td>05/11/2019</td>\n",
       "      <td>18.0</td>\n",
       "      <td>66.0</td>\n",
       "      <td>17.0</td>\n",
       "      <td>1</td>\n",
       "    </tr>\n",
       "  </tbody>\n",
       "</table>\n",
       "</div>"
      ],
      "text/plain": [
       "         date  avg_temp  humidity  f_like  region_id\n",
       "0  01/11/2019      18.0      65.0    16.0          1\n",
       "1  02/11/2019      17.0      70.0    16.0          1\n",
       "2  03/11/2019      17.0      64.0    16.0          1\n",
       "3  04/11/2019      19.0      59.0    18.0          1\n",
       "4  05/11/2019      18.0      66.0    17.0          1"
      ]
     },
     "execution_count": 8,
     "metadata": {},
     "output_type": "execute_result"
    }
   ],
   "source": [
    "# Rename the columns so they coincide with the Postgre DB\n",
    "df_climate.columns = ['date', 'avg_temp', 'humidity', 'f_like', 'region_id']\n",
    "df_climate.head()"
   ]
  },
  {
   "cell_type": "markdown",
   "metadata": {
    "heading_collapsed": true,
    "hidden": true
   },
   "source": [
    "### Site Information"
   ]
  },
  {
   "cell_type": "code",
   "execution_count": 9,
   "metadata": {
    "hidden": true
   },
   "outputs": [],
   "source": [
    "# List the desired sites by their site_id\n",
    "sites_id = [15099, 36983, 38716, 26804]\n",
    "\n",
    "# Filter the sites_df Data Frame by using 'isin' function\n",
    "sites_df = sites_df[sites_df['site_id'].isin(sites_id)]"
   ]
  },
  {
   "cell_type": "code",
   "execution_count": 10,
   "metadata": {
    "hidden": true
   },
   "outputs": [
    {
     "data": {
      "text/html": [
       "<div>\n",
       "<style scoped>\n",
       "    .dataframe tbody tr th:only-of-type {\n",
       "        vertical-align: middle;\n",
       "    }\n",
       "\n",
       "    .dataframe tbody tr th {\n",
       "        vertical-align: top;\n",
       "    }\n",
       "\n",
       "    .dataframe thead th {\n",
       "        text-align: right;\n",
       "    }\n",
       "</style>\n",
       "<table border=\"1\" class=\"dataframe\">\n",
       "  <thead>\n",
       "    <tr style=\"text-align: right;\">\n",
       "      <th></th>\n",
       "      <th>site_id</th>\n",
       "      <th>site_name</th>\n",
       "      <th>zona</th>\n",
       "    </tr>\n",
       "  </thead>\n",
       "  <tbody>\n",
       "    <tr>\n",
       "      <td>0</td>\n",
       "      <td>15099</td>\n",
       "      <td>Restaurante 01</td>\n",
       "      <td>GDL</td>\n",
       "    </tr>\n",
       "    <tr>\n",
       "      <td>1</td>\n",
       "      <td>36983</td>\n",
       "      <td>Restaurante 02</td>\n",
       "      <td>MTY</td>\n",
       "    </tr>\n",
       "    <tr>\n",
       "      <td>2</td>\n",
       "      <td>38716</td>\n",
       "      <td>Restaurante 03</td>\n",
       "      <td>CUN</td>\n",
       "    </tr>\n",
       "    <tr>\n",
       "      <td>3</td>\n",
       "      <td>26804</td>\n",
       "      <td>Restaurante 04</td>\n",
       "      <td>CDMX</td>\n",
       "    </tr>\n",
       "  </tbody>\n",
       "</table>\n",
       "</div>"
      ],
      "text/plain": [
       "   site_id       site_name  zona\n",
       "0    15099  Restaurante 01   GDL\n",
       "1    36983  Restaurante 02   MTY\n",
       "2    38716  Restaurante 03   CUN\n",
       "3    26804  Restaurante 04  CDMX"
      ]
     },
     "execution_count": 10,
     "metadata": {},
     "output_type": "execute_result"
    }
   ],
   "source": [
    "# Extract the desired columns\n",
    "sites_df = sites_df[['site_id', 'site_name', 'zona']]\n",
    "sites_df.head()"
   ]
  },
  {
   "cell_type": "code",
   "execution_count": 11,
   "metadata": {
    "hidden": true
   },
   "outputs": [
    {
     "data": {
      "text/html": [
       "<div>\n",
       "<style scoped>\n",
       "    .dataframe tbody tr th:only-of-type {\n",
       "        vertical-align: middle;\n",
       "    }\n",
       "\n",
       "    .dataframe tbody tr th {\n",
       "        vertical-align: top;\n",
       "    }\n",
       "\n",
       "    .dataframe thead th {\n",
       "        text-align: right;\n",
       "    }\n",
       "</style>\n",
       "<table border=\"1\" class=\"dataframe\">\n",
       "  <thead>\n",
       "    <tr style=\"text-align: right;\">\n",
       "      <th></th>\n",
       "      <th>site_id</th>\n",
       "      <th>site_name</th>\n",
       "      <th>region_name</th>\n",
       "    </tr>\n",
       "  </thead>\n",
       "  <tbody>\n",
       "    <tr>\n",
       "      <td>0</td>\n",
       "      <td>15099</td>\n",
       "      <td>Restaurante 01</td>\n",
       "      <td>GDL</td>\n",
       "    </tr>\n",
       "    <tr>\n",
       "      <td>1</td>\n",
       "      <td>36983</td>\n",
       "      <td>Restaurante 02</td>\n",
       "      <td>MTY</td>\n",
       "    </tr>\n",
       "    <tr>\n",
       "      <td>2</td>\n",
       "      <td>38716</td>\n",
       "      <td>Restaurante 03</td>\n",
       "      <td>CUN</td>\n",
       "    </tr>\n",
       "    <tr>\n",
       "      <td>3</td>\n",
       "      <td>26804</td>\n",
       "      <td>Restaurante 04</td>\n",
       "      <td>CDMX</td>\n",
       "    </tr>\n",
       "  </tbody>\n",
       "</table>\n",
       "</div>"
      ],
      "text/plain": [
       "   site_id       site_name region_name\n",
       "0    15099  Restaurante 01         GDL\n",
       "1    36983  Restaurante 02         MTY\n",
       "2    38716  Restaurante 03         CUN\n",
       "3    26804  Restaurante 04        CDMX"
      ]
     },
     "execution_count": 11,
     "metadata": {},
     "output_type": "execute_result"
    }
   ],
   "source": [
    "# Rename the columns\n",
    "sites_df.columns = ['site_id', 'site_name', 'region_name']\n",
    "sites_df.head()"
   ]
  },
  {
   "cell_type": "code",
   "execution_count": 12,
   "metadata": {
    "hidden": true
   },
   "outputs": [
    {
     "data": {
      "text/html": [
       "<div>\n",
       "<style scoped>\n",
       "    .dataframe tbody tr th:only-of-type {\n",
       "        vertical-align: middle;\n",
       "    }\n",
       "\n",
       "    .dataframe tbody tr th {\n",
       "        vertical-align: top;\n",
       "    }\n",
       "\n",
       "    .dataframe thead th {\n",
       "        text-align: right;\n",
       "    }\n",
       "</style>\n",
       "<table border=\"1\" class=\"dataframe\">\n",
       "  <thead>\n",
       "    <tr style=\"text-align: right;\">\n",
       "      <th></th>\n",
       "      <th>site_id</th>\n",
       "      <th>site_name</th>\n",
       "      <th>region_id</th>\n",
       "    </tr>\n",
       "  </thead>\n",
       "  <tbody>\n",
       "    <tr>\n",
       "      <td>0</td>\n",
       "      <td>15099</td>\n",
       "      <td>Restaurante 01</td>\n",
       "      <td>4</td>\n",
       "    </tr>\n",
       "    <tr>\n",
       "      <td>1</td>\n",
       "      <td>36983</td>\n",
       "      <td>Restaurante 02</td>\n",
       "      <td>2</td>\n",
       "    </tr>\n",
       "    <tr>\n",
       "      <td>2</td>\n",
       "      <td>38716</td>\n",
       "      <td>Restaurante 03</td>\n",
       "      <td>3</td>\n",
       "    </tr>\n",
       "    <tr>\n",
       "      <td>3</td>\n",
       "      <td>26804</td>\n",
       "      <td>Restaurante 04</td>\n",
       "      <td>1</td>\n",
       "    </tr>\n",
       "  </tbody>\n",
       "</table>\n",
       "</div>"
      ],
      "text/plain": [
       "   site_id       site_name  region_id\n",
       "0    15099  Restaurante 01          4\n",
       "1    36983  Restaurante 02          2\n",
       "2    38716  Restaurante 03          3\n",
       "3    26804  Restaurante 04          1"
      ]
     },
     "execution_count": 12,
     "metadata": {},
     "output_type": "execute_result"
    }
   ],
   "source": [
    "# Join sites_df with region_df on region_name column\n",
    "sites_df = sites_df.merge(region_df, how='inner', on='region_name')\n",
    "# From the previous \"Join\", extract the desired columns\n",
    "sites_df = sites_df[['site_id', 'site_name', 'region_id']]\n",
    "sites_df"
   ]
  },
  {
   "cell_type": "markdown",
   "metadata": {
    "heading_collapsed": true,
    "hidden": true
   },
   "source": [
    "### Energy Consumption Part 1"
   ]
  },
  {
   "cell_type": "code",
   "execution_count": 13,
   "metadata": {
    "hidden": true
   },
   "outputs": [],
   "source": [
    "# Filter measurements_df by the desired sites\n",
    "measurements_df = measurements_df[measurements_df['site_id'].isin(sites_id)]"
   ]
  },
  {
   "cell_type": "code",
   "execution_count": 14,
   "metadata": {
    "hidden": true
   },
   "outputs": [
    {
     "data": {
      "text/html": [
       "<div>\n",
       "<style scoped>\n",
       "    .dataframe tbody tr th:only-of-type {\n",
       "        vertical-align: middle;\n",
       "    }\n",
       "\n",
       "    .dataframe tbody tr th {\n",
       "        vertical-align: top;\n",
       "    }\n",
       "\n",
       "    .dataframe thead th {\n",
       "        text-align: right;\n",
       "    }\n",
       "</style>\n",
       "<table border=\"1\" class=\"dataframe\">\n",
       "  <thead>\n",
       "    <tr style=\"text-align: right;\">\n",
       "      <th></th>\n",
       "      <th>site_id</th>\n",
       "      <th>Fecha</th>\n",
       "      <th>category</th>\n",
       "      <th>energy(kWh)</th>\n",
       "    </tr>\n",
       "  </thead>\n",
       "  <tbody>\n",
       "    <tr>\n",
       "      <td>0</td>\n",
       "      <td>15099</td>\n",
       "      <td>01/11/2019</td>\n",
       "      <td>Ilum</td>\n",
       "      <td>0.817350</td>\n",
       "    </tr>\n",
       "    <tr>\n",
       "      <td>1</td>\n",
       "      <td>15099</td>\n",
       "      <td>01/11/2019</td>\n",
       "      <td>Ilum</td>\n",
       "      <td>0.820975</td>\n",
       "    </tr>\n",
       "    <tr>\n",
       "      <td>2</td>\n",
       "      <td>15099</td>\n",
       "      <td>01/11/2019</td>\n",
       "      <td>Ilum</td>\n",
       "      <td>0.902475</td>\n",
       "    </tr>\n",
       "    <tr>\n",
       "      <td>3</td>\n",
       "      <td>15099</td>\n",
       "      <td>01/11/2019</td>\n",
       "      <td>Ilum</td>\n",
       "      <td>0.837875</td>\n",
       "    </tr>\n",
       "    <tr>\n",
       "      <td>4</td>\n",
       "      <td>15099</td>\n",
       "      <td>01/11/2019</td>\n",
       "      <td>Ilum</td>\n",
       "      <td>0.822325</td>\n",
       "    </tr>\n",
       "  </tbody>\n",
       "</table>\n",
       "</div>"
      ],
      "text/plain": [
       "   site_id       Fecha category  energy(kWh)\n",
       "0    15099  01/11/2019     Ilum     0.817350\n",
       "1    15099  01/11/2019     Ilum     0.820975\n",
       "2    15099  01/11/2019     Ilum     0.902475\n",
       "3    15099  01/11/2019     Ilum     0.837875\n",
       "4    15099  01/11/2019     Ilum     0.822325"
      ]
     },
     "execution_count": 14,
     "metadata": {},
     "output_type": "execute_result"
    }
   ],
   "source": [
    "# Select the desired columns\n",
    "measurements_df = measurements_df[['site_id', 'Fecha', 'category', 'energy(kWh)']]\n",
    "measurements_df.head()"
   ]
  },
  {
   "cell_type": "code",
   "execution_count": 15,
   "metadata": {
    "hidden": true
   },
   "outputs": [
    {
     "data": {
      "text/html": [
       "<div>\n",
       "<style scoped>\n",
       "    .dataframe tbody tr th:only-of-type {\n",
       "        vertical-align: middle;\n",
       "    }\n",
       "\n",
       "    .dataframe tbody tr th {\n",
       "        vertical-align: top;\n",
       "    }\n",
       "\n",
       "    .dataframe thead th {\n",
       "        text-align: right;\n",
       "    }\n",
       "</style>\n",
       "<table border=\"1\" class=\"dataframe\">\n",
       "  <thead>\n",
       "    <tr style=\"text-align: right;\">\n",
       "      <th></th>\n",
       "      <th>site_id</th>\n",
       "      <th>date</th>\n",
       "      <th>category</th>\n",
       "      <th>energy_kWh</th>\n",
       "    </tr>\n",
       "  </thead>\n",
       "  <tbody>\n",
       "    <tr>\n",
       "      <td>0</td>\n",
       "      <td>15099</td>\n",
       "      <td>01/11/2019</td>\n",
       "      <td>Ilum</td>\n",
       "      <td>0.817350</td>\n",
       "    </tr>\n",
       "    <tr>\n",
       "      <td>1</td>\n",
       "      <td>15099</td>\n",
       "      <td>01/11/2019</td>\n",
       "      <td>Ilum</td>\n",
       "      <td>0.820975</td>\n",
       "    </tr>\n",
       "    <tr>\n",
       "      <td>2</td>\n",
       "      <td>15099</td>\n",
       "      <td>01/11/2019</td>\n",
       "      <td>Ilum</td>\n",
       "      <td>0.902475</td>\n",
       "    </tr>\n",
       "    <tr>\n",
       "      <td>3</td>\n",
       "      <td>15099</td>\n",
       "      <td>01/11/2019</td>\n",
       "      <td>Ilum</td>\n",
       "      <td>0.837875</td>\n",
       "    </tr>\n",
       "    <tr>\n",
       "      <td>4</td>\n",
       "      <td>15099</td>\n",
       "      <td>01/11/2019</td>\n",
       "      <td>Ilum</td>\n",
       "      <td>0.822325</td>\n",
       "    </tr>\n",
       "  </tbody>\n",
       "</table>\n",
       "</div>"
      ],
      "text/plain": [
       "   site_id        date category  energy_kWh\n",
       "0    15099  01/11/2019     Ilum    0.817350\n",
       "1    15099  01/11/2019     Ilum    0.820975\n",
       "2    15099  01/11/2019     Ilum    0.902475\n",
       "3    15099  01/11/2019     Ilum    0.837875\n",
       "4    15099  01/11/2019     Ilum    0.822325"
      ]
     },
     "execution_count": 15,
     "metadata": {},
     "output_type": "execute_result"
    }
   ],
   "source": [
    "# Rename the columns\n",
    "measurements_df.columns = ['site_id', 'date', 'category', 'energy_kWh']\n",
    "measurements_df.head()"
   ]
  },
  {
   "cell_type": "code",
   "execution_count": 16,
   "metadata": {
    "hidden": true
   },
   "outputs": [
    {
     "data": {
      "text/html": [
       "<div>\n",
       "<style scoped>\n",
       "    .dataframe tbody tr th:only-of-type {\n",
       "        vertical-align: middle;\n",
       "    }\n",
       "\n",
       "    .dataframe tbody tr th {\n",
       "        vertical-align: top;\n",
       "    }\n",
       "\n",
       "    .dataframe thead th {\n",
       "        text-align: right;\n",
       "    }\n",
       "</style>\n",
       "<table border=\"1\" class=\"dataframe\">\n",
       "  <thead>\n",
       "    <tr style=\"text-align: right;\">\n",
       "      <th></th>\n",
       "      <th>site_id</th>\n",
       "      <th>date</th>\n",
       "      <th>category</th>\n",
       "      <th>energy_kWh</th>\n",
       "    </tr>\n",
       "  </thead>\n",
       "  <tbody>\n",
       "    <tr>\n",
       "      <td>0</td>\n",
       "      <td>15099</td>\n",
       "      <td>01/01/2020</td>\n",
       "      <td>Cocina</td>\n",
       "      <td>178.777400</td>\n",
       "    </tr>\n",
       "    <tr>\n",
       "      <td>1</td>\n",
       "      <td>15099</td>\n",
       "      <td>01/01/2020</td>\n",
       "      <td>Ilum</td>\n",
       "      <td>72.054150</td>\n",
       "    </tr>\n",
       "    <tr>\n",
       "      <td>2</td>\n",
       "      <td>15099</td>\n",
       "      <td>01/01/2020</td>\n",
       "      <td>Iny_Ext</td>\n",
       "      <td>93.290125</td>\n",
       "    </tr>\n",
       "    <tr>\n",
       "      <td>3</td>\n",
       "      <td>15099</td>\n",
       "      <td>01/01/2020</td>\n",
       "      <td>Refri</td>\n",
       "      <td>92.532600</td>\n",
       "    </tr>\n",
       "    <tr>\n",
       "      <td>4</td>\n",
       "      <td>15099</td>\n",
       "      <td>01/02/2020</td>\n",
       "      <td>Cocina</td>\n",
       "      <td>217.115400</td>\n",
       "    </tr>\n",
       "  </tbody>\n",
       "</table>\n",
       "</div>"
      ],
      "text/plain": [
       "   site_id        date category  energy_kWh\n",
       "0    15099  01/01/2020   Cocina  178.777400\n",
       "1    15099  01/01/2020     Ilum   72.054150\n",
       "2    15099  01/01/2020  Iny_Ext   93.290125\n",
       "3    15099  01/01/2020    Refri   92.532600\n",
       "4    15099  01/02/2020   Cocina  217.115400"
      ]
     },
     "execution_count": 16,
     "metadata": {},
     "output_type": "execute_result"
    }
   ],
   "source": [
    "# Group the energy column by date\n",
    "measurements_grouped = measurements_df.groupby(['site_id', 'date', 'category'], as_index=False).sum()\n",
    "measurements_grouped.head()"
   ]
  },
  {
   "cell_type": "markdown",
   "metadata": {
    "heading_collapsed": true,
    "hidden": true
   },
   "source": [
    "### Category Information Part 1"
   ]
  },
  {
   "cell_type": "code",
   "execution_count": 17,
   "metadata": {
    "hidden": true
   },
   "outputs": [
    {
     "data": {
      "text/plain": [
       "['Cocina', 'Ilum', 'Iny_Ext', 'Refri', 'Hvac', 'Contactos', 'Mach']"
      ]
     },
     "execution_count": 17,
     "metadata": {},
     "output_type": "execute_result"
    }
   ],
   "source": [
    "# From the measurements table, get the unique categories from categoy column\n",
    "category_list = measurements_grouped['category'].unique().tolist()\n",
    "category_list"
   ]
  },
  {
   "cell_type": "code",
   "execution_count": 18,
   "metadata": {
    "hidden": true
   },
   "outputs": [
    {
     "data": {
      "text/plain": [
       "[1, 2, 3, 4, 5, 6, 7]"
      ]
     },
     "execution_count": 18,
     "metadata": {},
     "output_type": "execute_result"
    }
   ],
   "source": [
    "# Create a list of id's for each category\n",
    "id_list = []\n",
    "id = 1\n",
    "for i in category_list:\n",
    "    id_list.append(id)\n",
    "    id+=1\n",
    "id_list"
   ]
  },
  {
   "cell_type": "code",
   "execution_count": 19,
   "metadata": {
    "hidden": true
   },
   "outputs": [
    {
     "data": {
      "text/html": [
       "<div>\n",
       "<style scoped>\n",
       "    .dataframe tbody tr th:only-of-type {\n",
       "        vertical-align: middle;\n",
       "    }\n",
       "\n",
       "    .dataframe tbody tr th {\n",
       "        vertical-align: top;\n",
       "    }\n",
       "\n",
       "    .dataframe thead th {\n",
       "        text-align: right;\n",
       "    }\n",
       "</style>\n",
       "<table border=\"1\" class=\"dataframe\">\n",
       "  <thead>\n",
       "    <tr style=\"text-align: right;\">\n",
       "      <th></th>\n",
       "      <th>category_id</th>\n",
       "      <th>category</th>\n",
       "    </tr>\n",
       "  </thead>\n",
       "  <tbody>\n",
       "    <tr>\n",
       "      <td>0</td>\n",
       "      <td>1</td>\n",
       "      <td>Cocina</td>\n",
       "    </tr>\n",
       "    <tr>\n",
       "      <td>1</td>\n",
       "      <td>2</td>\n",
       "      <td>Ilum</td>\n",
       "    </tr>\n",
       "    <tr>\n",
       "      <td>2</td>\n",
       "      <td>3</td>\n",
       "      <td>Iny_Ext</td>\n",
       "    </tr>\n",
       "    <tr>\n",
       "      <td>3</td>\n",
       "      <td>4</td>\n",
       "      <td>Refri</td>\n",
       "    </tr>\n",
       "    <tr>\n",
       "      <td>4</td>\n",
       "      <td>5</td>\n",
       "      <td>Hvac</td>\n",
       "    </tr>\n",
       "    <tr>\n",
       "      <td>5</td>\n",
       "      <td>6</td>\n",
       "      <td>Contactos</td>\n",
       "    </tr>\n",
       "    <tr>\n",
       "      <td>6</td>\n",
       "      <td>7</td>\n",
       "      <td>Mach</td>\n",
       "    </tr>\n",
       "  </tbody>\n",
       "</table>\n",
       "</div>"
      ],
      "text/plain": [
       "   category_id   category\n",
       "0            1     Cocina\n",
       "1            2       Ilum\n",
       "2            3    Iny_Ext\n",
       "3            4      Refri\n",
       "4            5       Hvac\n",
       "5            6  Contactos\n",
       "6            7       Mach"
      ]
     },
     "execution_count": 19,
     "metadata": {},
     "output_type": "execute_result"
    }
   ],
   "source": [
    "# Create a dictionary from the id_list and category_list\n",
    "category_dict = {'category_id':id_list, 'category':category_list}\n",
    "# Create a category from the decitionaries\n",
    "category_df = pd.DataFrame(category_dict)\n",
    "category_df"
   ]
  },
  {
   "cell_type": "markdown",
   "metadata": {
    "heading_collapsed": true,
    "hidden": true
   },
   "source": [
    "### Energy Consumption & Category Information Part 2"
   ]
  },
  {
   "cell_type": "code",
   "execution_count": 20,
   "metadata": {
    "hidden": true
   },
   "outputs": [
    {
     "data": {
      "text/html": [
       "<div>\n",
       "<style scoped>\n",
       "    .dataframe tbody tr th:only-of-type {\n",
       "        vertical-align: middle;\n",
       "    }\n",
       "\n",
       "    .dataframe tbody tr th {\n",
       "        vertical-align: top;\n",
       "    }\n",
       "\n",
       "    .dataframe thead th {\n",
       "        text-align: right;\n",
       "    }\n",
       "</style>\n",
       "<table border=\"1\" class=\"dataframe\">\n",
       "  <thead>\n",
       "    <tr style=\"text-align: right;\">\n",
       "      <th></th>\n",
       "      <th>site_id</th>\n",
       "      <th>date</th>\n",
       "      <th>category</th>\n",
       "      <th>energy_kWh</th>\n",
       "      <th>category_id</th>\n",
       "    </tr>\n",
       "  </thead>\n",
       "  <tbody>\n",
       "    <tr>\n",
       "      <td>0</td>\n",
       "      <td>15099</td>\n",
       "      <td>01/01/2020</td>\n",
       "      <td>Cocina</td>\n",
       "      <td>178.77740</td>\n",
       "      <td>1</td>\n",
       "    </tr>\n",
       "    <tr>\n",
       "      <td>1</td>\n",
       "      <td>15099</td>\n",
       "      <td>01/02/2020</td>\n",
       "      <td>Cocina</td>\n",
       "      <td>217.11540</td>\n",
       "      <td>1</td>\n",
       "    </tr>\n",
       "    <tr>\n",
       "      <td>2</td>\n",
       "      <td>15099</td>\n",
       "      <td>01/03/2020</td>\n",
       "      <td>Cocina</td>\n",
       "      <td>195.89090</td>\n",
       "      <td>1</td>\n",
       "    </tr>\n",
       "    <tr>\n",
       "      <td>3</td>\n",
       "      <td>15099</td>\n",
       "      <td>01/04/2020</td>\n",
       "      <td>Cocina</td>\n",
       "      <td>125.66560</td>\n",
       "      <td>1</td>\n",
       "    </tr>\n",
       "    <tr>\n",
       "      <td>4</td>\n",
       "      <td>15099</td>\n",
       "      <td>01/11/2019</td>\n",
       "      <td>Cocina</td>\n",
       "      <td>78.34855</td>\n",
       "      <td>1</td>\n",
       "    </tr>\n",
       "  </tbody>\n",
       "</table>\n",
       "</div>"
      ],
      "text/plain": [
       "   site_id        date category  energy_kWh  category_id\n",
       "0    15099  01/01/2020   Cocina   178.77740            1\n",
       "1    15099  01/02/2020   Cocina   217.11540            1\n",
       "2    15099  01/03/2020   Cocina   195.89090            1\n",
       "3    15099  01/04/2020   Cocina   125.66560            1\n",
       "4    15099  01/11/2019   Cocina    78.34855            1"
      ]
     },
     "execution_count": 20,
     "metadata": {},
     "output_type": "execute_result"
    }
   ],
   "source": [
    "# # Join measurements_df with category_df on region_name column\n",
    "measurements_df = measurements_grouped.merge(category_df, how='inner', on='category')\n",
    "measurements_df.head()"
   ]
  },
  {
   "cell_type": "code",
   "execution_count": 21,
   "metadata": {
    "hidden": true
   },
   "outputs": [
    {
     "data": {
      "text/html": [
       "<div>\n",
       "<style scoped>\n",
       "    .dataframe tbody tr th:only-of-type {\n",
       "        vertical-align: middle;\n",
       "    }\n",
       "\n",
       "    .dataframe tbody tr th {\n",
       "        vertical-align: top;\n",
       "    }\n",
       "\n",
       "    .dataframe thead th {\n",
       "        text-align: right;\n",
       "    }\n",
       "</style>\n",
       "<table border=\"1\" class=\"dataframe\">\n",
       "  <thead>\n",
       "    <tr style=\"text-align: right;\">\n",
       "      <th></th>\n",
       "      <th>site_id</th>\n",
       "      <th>date</th>\n",
       "      <th>category_id</th>\n",
       "      <th>energy_kWh</th>\n",
       "    </tr>\n",
       "  </thead>\n",
       "  <tbody>\n",
       "    <tr>\n",
       "      <td>0</td>\n",
       "      <td>15099</td>\n",
       "      <td>01/01/2020</td>\n",
       "      <td>1</td>\n",
       "      <td>178.77740</td>\n",
       "    </tr>\n",
       "    <tr>\n",
       "      <td>1</td>\n",
       "      <td>15099</td>\n",
       "      <td>01/02/2020</td>\n",
       "      <td>1</td>\n",
       "      <td>217.11540</td>\n",
       "    </tr>\n",
       "    <tr>\n",
       "      <td>2</td>\n",
       "      <td>15099</td>\n",
       "      <td>01/03/2020</td>\n",
       "      <td>1</td>\n",
       "      <td>195.89090</td>\n",
       "    </tr>\n",
       "    <tr>\n",
       "      <td>3</td>\n",
       "      <td>15099</td>\n",
       "      <td>01/04/2020</td>\n",
       "      <td>1</td>\n",
       "      <td>125.66560</td>\n",
       "    </tr>\n",
       "    <tr>\n",
       "      <td>4</td>\n",
       "      <td>15099</td>\n",
       "      <td>01/11/2019</td>\n",
       "      <td>1</td>\n",
       "      <td>78.34855</td>\n",
       "    </tr>\n",
       "  </tbody>\n",
       "</table>\n",
       "</div>"
      ],
      "text/plain": [
       "   site_id        date  category_id  energy_kWh\n",
       "0    15099  01/01/2020            1   178.77740\n",
       "1    15099  01/02/2020            1   217.11540\n",
       "2    15099  01/03/2020            1   195.89090\n",
       "3    15099  01/04/2020            1   125.66560\n",
       "4    15099  01/11/2019            1    78.34855"
      ]
     },
     "execution_count": 21,
     "metadata": {},
     "output_type": "execute_result"
    }
   ],
   "source": [
    "# From the previous df, extract the desired columns\n",
    "measurements_df = measurements_df[['site_id', 'date', 'category_id', 'energy_kWh']]\n",
    "measurements_df.head()"
   ]
  },
  {
   "cell_type": "code",
   "execution_count": 22,
   "metadata": {
    "hidden": true
   },
   "outputs": [
    {
     "name": "stdout",
     "output_type": "stream",
     "text": [
      "<class 'pandas.core.frame.DataFrame'>\n",
      "Int64Index: 2904 entries, 0 to 2903\n",
      "Data columns (total 4 columns):\n",
      "site_id        2904 non-null int64\n",
      "date           2904 non-null datetime64[ns]\n",
      "category_id    2904 non-null int64\n",
      "energy_kWh     2904 non-null float64\n",
      "dtypes: datetime64[ns](1), float64(1), int64(2)\n",
      "memory usage: 113.4 KB\n"
     ]
    }
   ],
   "source": [
    "# Change column 'date' type to datetime\n",
    "measurements_df['date'] = pd.to_datetime(measurements_df['date'])\n",
    "measurements_df.info()"
   ]
  },
  {
   "cell_type": "code",
   "execution_count": 23,
   "metadata": {
    "hidden": true
   },
   "outputs": [
    {
     "data": {
      "text/html": [
       "<div>\n",
       "<style scoped>\n",
       "    .dataframe tbody tr th:only-of-type {\n",
       "        vertical-align: middle;\n",
       "    }\n",
       "\n",
       "    .dataframe tbody tr th {\n",
       "        vertical-align: top;\n",
       "    }\n",
       "\n",
       "    .dataframe thead th {\n",
       "        text-align: right;\n",
       "    }\n",
       "</style>\n",
       "<table border=\"1\" class=\"dataframe\">\n",
       "  <thead>\n",
       "    <tr style=\"text-align: right;\">\n",
       "      <th></th>\n",
       "      <th>category_id</th>\n",
       "      <th>category_name</th>\n",
       "    </tr>\n",
       "  </thead>\n",
       "  <tbody>\n",
       "    <tr>\n",
       "      <td>0</td>\n",
       "      <td>1</td>\n",
       "      <td>Cocina</td>\n",
       "    </tr>\n",
       "    <tr>\n",
       "      <td>1</td>\n",
       "      <td>2</td>\n",
       "      <td>Ilum</td>\n",
       "    </tr>\n",
       "    <tr>\n",
       "      <td>2</td>\n",
       "      <td>3</td>\n",
       "      <td>Iny_Ext</td>\n",
       "    </tr>\n",
       "    <tr>\n",
       "      <td>3</td>\n",
       "      <td>4</td>\n",
       "      <td>Refri</td>\n",
       "    </tr>\n",
       "    <tr>\n",
       "      <td>4</td>\n",
       "      <td>5</td>\n",
       "      <td>Hvac</td>\n",
       "    </tr>\n",
       "    <tr>\n",
       "      <td>5</td>\n",
       "      <td>6</td>\n",
       "      <td>Contactos</td>\n",
       "    </tr>\n",
       "    <tr>\n",
       "      <td>6</td>\n",
       "      <td>7</td>\n",
       "      <td>Mach</td>\n",
       "    </tr>\n",
       "  </tbody>\n",
       "</table>\n",
       "</div>"
      ],
      "text/plain": [
       "   category_id category_name\n",
       "0            1        Cocina\n",
       "1            2          Ilum\n",
       "2            3       Iny_Ext\n",
       "3            4         Refri\n",
       "4            5          Hvac\n",
       "5            6     Contactos\n",
       "6            7          Mach"
      ]
     },
     "execution_count": 23,
     "metadata": {},
     "output_type": "execute_result"
    }
   ],
   "source": [
    "# Rename category_df columns\n",
    "category_df.columns = ['category_id', 'category_name']\n",
    "category_df"
   ]
  },
  {
   "cell_type": "markdown",
   "metadata": {
    "heading_collapsed": true,
    "hidden": true
   },
   "source": [
    "### Sales Data"
   ]
  },
  {
   "cell_type": "code",
   "execution_count": 24,
   "metadata": {
    "hidden": true
   },
   "outputs": [],
   "source": [
    "# Filter the df by using 'isin' function\n",
    "sales_df = sales_df[sales_df['site_id'].isin(sites_id)]"
   ]
  },
  {
   "cell_type": "code",
   "execution_count": 25,
   "metadata": {
    "hidden": true
   },
   "outputs": [
    {
     "data": {
      "text/html": [
       "<div>\n",
       "<style scoped>\n",
       "    .dataframe tbody tr th:only-of-type {\n",
       "        vertical-align: middle;\n",
       "    }\n",
       "\n",
       "    .dataframe tbody tr th {\n",
       "        vertical-align: top;\n",
       "    }\n",
       "\n",
       "    .dataframe thead th {\n",
       "        text-align: right;\n",
       "    }\n",
       "</style>\n",
       "<table border=\"1\" class=\"dataframe\">\n",
       "  <thead>\n",
       "    <tr style=\"text-align: right;\">\n",
       "      <th></th>\n",
       "      <th>site_id</th>\n",
       "      <th>date</th>\n",
       "      <th>sales</th>\n",
       "      <th>customers</th>\n",
       "    </tr>\n",
       "  </thead>\n",
       "  <tbody>\n",
       "    <tr>\n",
       "      <td>1</td>\n",
       "      <td>15099</td>\n",
       "      <td>01/01/2020</td>\n",
       "      <td>52417.82</td>\n",
       "      <td>227</td>\n",
       "    </tr>\n",
       "    <tr>\n",
       "      <td>6</td>\n",
       "      <td>15099</td>\n",
       "      <td>02/01/2020</td>\n",
       "      <td>37879.17</td>\n",
       "      <td>181</td>\n",
       "    </tr>\n",
       "    <tr>\n",
       "      <td>11</td>\n",
       "      <td>15099</td>\n",
       "      <td>03/01/2020</td>\n",
       "      <td>45017.42</td>\n",
       "      <td>201</td>\n",
       "    </tr>\n",
       "    <tr>\n",
       "      <td>16</td>\n",
       "      <td>15099</td>\n",
       "      <td>04/01/2020</td>\n",
       "      <td>58530.52</td>\n",
       "      <td>266</td>\n",
       "    </tr>\n",
       "    <tr>\n",
       "      <td>21</td>\n",
       "      <td>15099</td>\n",
       "      <td>05/01/2020</td>\n",
       "      <td>51642.40</td>\n",
       "      <td>260</td>\n",
       "    </tr>\n",
       "  </tbody>\n",
       "</table>\n",
       "</div>"
      ],
      "text/plain": [
       "    site_id        date     sales  customers\n",
       "1     15099  01/01/2020  52417.82        227\n",
       "6     15099  02/01/2020  37879.17        181\n",
       "11    15099  03/01/2020  45017.42        201\n",
       "16    15099  04/01/2020  58530.52        266\n",
       "21    15099  05/01/2020  51642.40        260"
      ]
     },
     "execution_count": 25,
     "metadata": {},
     "output_type": "execute_result"
    }
   ],
   "source": [
    "# Rename the columns\n",
    "sales_df.columns = ['site_id', 'date', 'sales', 'customers']\n",
    "sales_df.head()"
   ]
  },
  {
   "cell_type": "markdown",
   "metadata": {
    "heading_collapsed": true
   },
   "source": [
    "## Load"
   ]
  },
  {
   "cell_type": "code",
   "execution_count": 33,
   "metadata": {
    "hidden": true
   },
   "outputs": [
    {
     "name": "stdout",
     "output_type": "stream",
     "text": [
      "Postgres password: postgres\n"
     ]
    }
   ],
   "source": [
    "# Ask for the  postgres password\n",
    "password = input(\"Postgres password: \")"
   ]
  },
  {
   "cell_type": "code",
   "execution_count": 27,
   "metadata": {
    "hidden": true
   },
   "outputs": [],
   "source": [
    "# Create the engine\n",
    "connection_string = \"postgres:\"+ password +\"@localhost:5432/ETL_Project\"\n",
    "engine = create_engine(f'postgresql://{connection_string}')"
   ]
  },
  {
   "cell_type": "code",
   "execution_count": 28,
   "metadata": {
    "hidden": true
   },
   "outputs": [
    {
     "data": {
      "text/plain": [
       "['sites', 'measurements', 'categories', 'region', 'meteorological', 'sales']"
      ]
     },
     "execution_count": 28,
     "metadata": {},
     "output_type": "execute_result"
    }
   ],
   "source": [
    "# Display the found tables\n",
    "engine.table_names()"
   ]
  },
  {
   "cell_type": "markdown",
   "metadata": {
    "hidden": true
   },
   "source": [
    "### Load the df to the corresponding tables"
   ]
  },
  {
   "cell_type": "code",
   "execution_count": 29,
   "metadata": {
    "hidden": true
   },
   "outputs": [],
   "source": [
    "region_df.to_sql(name='region', con=engine, if_exists='append', index=False)"
   ]
  },
  {
   "cell_type": "code",
   "execution_count": 30,
   "metadata": {
    "hidden": true
   },
   "outputs": [],
   "source": [
    "category_df.to_sql(name='categories', con=engine, if_exists='append', index=False)"
   ]
  },
  {
   "cell_type": "code",
   "execution_count": 31,
   "metadata": {
    "hidden": true
   },
   "outputs": [],
   "source": [
    "df_climate.to_sql(name='meteorological', con=engine, if_exists='append', index=False)"
   ]
  },
  {
   "cell_type": "code",
   "execution_count": 36,
   "metadata": {
    "hidden": true
   },
   "outputs": [],
   "source": [
    "sites_df.to_sql(name='sites', con=engine, if_exists='append', index=False)"
   ]
  },
  {
   "cell_type": "code",
   "execution_count": 37,
   "metadata": {
    "hidden": true
   },
   "outputs": [],
   "source": [
    "measurements_df.to_sql(name='measurements', con=engine, if_exists='append', index=False)"
   ]
  },
  {
   "cell_type": "code",
   "execution_count": 38,
   "metadata": {
    "hidden": true
   },
   "outputs": [],
   "source": [
    "sales_df.to_sql(name='sales', con=engine, if_exists='append', index=False)"
   ]
  }
 ],
 "metadata": {
  "kernelspec": {
   "display_name": "Python 3",
   "language": "python",
   "name": "python3"
  },
  "language_info": {
   "codemirror_mode": {
    "name": "ipython",
    "version": 3
   },
   "file_extension": ".py",
   "mimetype": "text/x-python",
   "name": "python",
   "nbconvert_exporter": "python",
   "pygments_lexer": "ipython3",
   "version": "3.7.4"
  },
  "toc": {
   "base_numbering": 1,
   "nav_menu": {},
   "number_sections": true,
   "sideBar": true,
   "skip_h1_title": false,
   "title_cell": "Table of Contents",
   "title_sidebar": "Contents",
   "toc_cell": false,
   "toc_position": {},
   "toc_section_display": true,
   "toc_window_display": false
  }
 },
 "nbformat": 4,
 "nbformat_minor": 2
}
